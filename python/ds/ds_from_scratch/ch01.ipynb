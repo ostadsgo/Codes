{
 "cells": [
  {
   "cell_type": "code",
   "execution_count": 25,
   "id": "e30e66b2-3e55-4a0b-9900-2c41c5dc6b3f",
   "metadata": {},
   "outputs": [
    {
     "data": {
      "text/plain": [
       "24"
      ]
     },
     "execution_count": 25,
     "metadata": {},
     "output_type": "execute_result"
    }
   ],
   "source": [
    "# The data\n",
    "users = [\n",
    "    {\"id\": 0, \"name\": \"Hero\"},\n",
    "    {\"id\": 1, \"name\": \"Dunn\"},\n",
    "    {\"id\": 2, \"name\": \"Sue\"},\n",
    "    {\"id\": 3, \"name\": \"Chi\"},\n",
    "    {\"id\": 4, \"name\": \"Thor\"},\n",
    "    {\"id\": 5, \"name\": \"Clive\"},\n",
    "    {\"id\": 6, \"name\": \"Hicks\"},\n",
    "    {\"id\": 7, \"name\": \"Devin\"},\n",
    "    {\"id\": 8, \"name\": \"Kate\"},\n",
    "    {\"id\": 9, \"name\": \"Klein\"},\n",
    "]\n",
    "\n",
    "friendship_pairs = [\n",
    "    (0, 1),\n",
    "    (0, 2),\n",
    "    (1, 2),\n",
    "    (1, 3),\n",
    "    (2, 3),\n",
    "    (3, 4),\n",
    "    (4, 5),\n",
    "    (5, 6),\n",
    "    (5, 7),\n",
    "    (6, 8),\n",
    "    (7, 8),\n",
    "    (8, 9),\n",
    "]\n",
    "\n"
   ]
  },
  {
   "cell_type": "code",
   "execution_count": 45,
   "id": "0b719462-9de7-4ee3-9ee6-4a6c1e21270c",
   "metadata": {},
   "outputs": [
    {
     "data": {
      "text/plain": [
       "{0: [], 1: [], 2: [], 3: [], 4: [], 5: [], 6: [], 7: [], 8: [], 9: []}"
      ]
     },
     "execution_count": 45,
     "metadata": {},
     "output_type": "execute_result"
    }
   ],
   "source": [
    "friendships = {user[\"id\"]: [] for user in users}\n",
    "friendships"
   ]
  },
  {
   "cell_type": "code",
   "execution_count": 46,
   "id": "8361a5eb-1aee-42eb-b2c0-f465357c5131",
   "metadata": {},
   "outputs": [
    {
     "data": {
      "text/plain": [
       "{0: [1, 2],\n",
       " 1: [0, 2, 3],\n",
       " 2: [0, 1, 3],\n",
       " 3: [1, 2, 4],\n",
       " 4: [3, 5],\n",
       " 5: [4, 6, 7],\n",
       " 6: [5, 8],\n",
       " 7: [5, 8],\n",
       " 8: [6, 7, 9],\n",
       " 9: [8]}"
      ]
     },
     "execution_count": 46,
     "metadata": {},
     "output_type": "execute_result"
    }
   ],
   "source": [
    "for firend, someone in friendship_pairs:\n",
    "    friendships[firend].append(someone)\n",
    "    friendships[someone].append(firend)\n",
    "\n",
    "friendships"
   ]
  },
  {
   "cell_type": "markdown",
   "id": "4b131c6c-4c19-4760-8080-5e18bd58cf49",
   "metadata": {},
   "source": [
    "### What is the total connection of the friendships"
   ]
  },
  {
   "cell_type": "code",
   "execution_count": 39,
   "id": "f1fb4649-8204-4862-abe4-2b071365fbd2",
   "metadata": {},
   "outputs": [
    {
     "data": {
      "text/plain": [
       "24"
      ]
     },
     "execution_count": 39,
     "metadata": {},
     "output_type": "execute_result"
    }
   ],
   "source": [
    "def number_of_friends(user):\n",
    "    return len(friendships[user[\"id\"]])\n",
    "\n",
    "# Count all users relationship or friendships\n",
    "total_conn = sum(number_of_friends(user) for user in users)\n",
    "\n",
    "total_conn"
   ]
  },
  {
   "cell_type": "markdown",
   "id": "cd7b2a83-04cc-4fa6-a7d8-aa905248073c",
   "metadata": {},
   "source": [
    "### What is the average number of connection?"
   ]
  },
  {
   "cell_type": "code",
   "execution_count": 42,
   "id": "858409ad-b511-4157-887c-1d8affb77624",
   "metadata": {},
   "outputs": [
    {
     "data": {
      "text/plain": [
       "2.4"
      ]
     },
     "execution_count": 42,
     "metadata": {},
     "output_type": "execute_result"
    }
   ],
   "source": [
    "total_conn / len(users)"
   ]
  },
  {
   "cell_type": "markdown",
   "id": "573e3c69-19a3-4b22-b55c-efa29976aa04",
   "metadata": {},
   "source": [
    "### Find out most connected poeple\n",
    "The poeple who has the largest number of friends.\n",
    "Since they are not many people we can sort in desending order."
   ]
  },
  {
   "cell_type": "code",
   "execution_count": 60,
   "id": "30a7fcc7-f706-451c-a6a7-09e33ba1cfaa",
   "metadata": {},
   "outputs": [
    {
     "data": {
      "text/plain": [
       "[(1, 3),\n",
       " (2, 3),\n",
       " (3, 3),\n",
       " (5, 3),\n",
       " (8, 3),\n",
       " (0, 2),\n",
       " (4, 2),\n",
       " (6, 2),\n",
       " (7, 2),\n",
       " (9, 1)]"
      ]
     },
     "execution_count": 60,
     "metadata": {},
     "output_type": "execute_result"
    }
   ],
   "source": [
    "# create a list that store a tuple contain user_id and number of connection for the user.\n",
    "num_friends_by_id = [(user[\"id\"], number_of_friends(user)) for user in users]\n",
    "\n",
    "num_friends_by_id.sort(key=lambda pair: pair[1], reverse=True)\n",
    "num_friends_by_id"
   ]
  },
  {
   "cell_type": "code",
   "execution_count": 73,
   "id": "0338f517-fbae-4ef6-8585-4dc54deca569",
   "metadata": {
    "scrolled": true
   },
   "outputs": [
    {
     "data": {
      "text/plain": [
       "[0, 2, 3, 0, 1, 3]"
      ]
     },
     "execution_count": 73,
     "metadata": {},
     "output_type": "execute_result"
    }
   ],
   "source": [
    "[foaf_id for friend_id in friendships[0] for foaf_id in friendships[friend_id]]\n",
    "\n",
    "\n"
   ]
  }
 ],
 "metadata": {
  "kernelspec": {
   "display_name": "Python 3 (ipykernel)",
   "language": "python",
   "name": "python3"
  },
  "language_info": {
   "codemirror_mode": {
    "name": "ipython",
    "version": 3
   },
   "file_extension": ".py",
   "mimetype": "text/x-python",
   "name": "python",
   "nbconvert_exporter": "python",
   "pygments_lexer": "ipython3",
   "version": "3.11.7"
  }
 },
 "nbformat": 4,
 "nbformat_minor": 5
}
